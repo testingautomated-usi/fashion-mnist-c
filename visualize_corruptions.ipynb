{
  "nbformat": 4,
  "nbformat_minor": 0,
  "metadata": {
    "colab": {
      "name": "visualize_corruptions.ipynb",
      "version": "0.3.2",
      "provenance": [],
      "collapsed_sections": []
    },
    "kernelspec": {
      "name": "python2",
      "display_name": "Python 2"
    }
  },
  "cells": [
    {
      "cell_type": "code",
      "metadata": {
        "id": "-MTZUhlGEbTU",
        "colab_type": "code",
        "colab": {}
      },
      "source": [
        "import corruptions\n",
        "from importlib import reload\n",
        "import matplotlib.pyplot as plt\n",
        "import torchvision\n",
        "import numpy as np\n",
        "%matplotlib inline"
      ],
      "execution_count": 0,
      "outputs": []
    },
    {
      "cell_type": "code",
      "metadata": {
        "id": "fQYM1-K-EbTX",
        "colab_type": "code",
        "colab": {}
      },
      "source": [
        "train_mnist = torchvision.datasets.MNIST(\"../data/\", train=True, download=True)\n",
        "test_mnist = torchvision.datasets.MNIST(\"../data/\", train=False, download=True)\n",
        "IMAGES = [test_mnist[i][0] for i in range(50)]\n",
        "LABELS = [test_mnist[i][1] for i in range(50)]"
      ],
      "execution_count": 0,
      "outputs": []
    },
    {
      "cell_type": "code",
      "metadata": {
        "id": "eEICV4aTEbTa",
        "colab_type": "code",
        "colab": {}
      },
      "source": [
        "def show(x):\n",
        "    plt.imshow(x, cmap='gray', vmin=0, vmax=255)\n",
        "    plt.axis(\"off\")\n",
        "    plt.show()\n",
        "    \n",
        "def round_and_astype(x):\n",
        "    return np.round(x).astype(np.uint8)\n",
        "\n",
        "def inspect(corruption):\n",
        "    for im, l in zip(IMAGES, LABELS):\n",
        "        print(\"Label: \" + str(l))\n",
        "        x = np.array(corruption(im))\n",
        "        show(round_and_astype(x))\n",
        "        \n",
        "def inspect_single(image, corruption):\n",
        "    x = np.array(corruption(image))\n",
        "    show(round_and_astype(x))\n",
        "    \n",
        "def save(image, corruption, filename):\n",
        "    x = round_and_astype(np.array(corruption(image)))\n",
        "    fig = plt.figure()\n",
        "    ax = fig.add_subplot(111)\n",
        "    ax.axes.get_xaxis().set_visible(False)\n",
        "    ax.axes.get_yaxis().set_visible(False)\n",
        "    ax.set_frame_on(False)\n",
        "    ax.imshow(x, cmap='gray', vmin=0, vmax=255)\n",
        "    plt.savefig(filename, bbox_inches='tight',transparent=True, pad_inches=0)"
      ],
      "execution_count": 0,
      "outputs": []
    },
    {
      "cell_type": "code",
      "metadata": {
        "scrolled": true,
        "id": "beg98c3hEbTc",
        "colab_type": "code",
        "colab": {}
      },
      "source": [
        "reload(corruptions)\n",
        "inspect(corruptions.glass_blur)"
      ],
      "execution_count": 0,
      "outputs": []
    }
  ]
}